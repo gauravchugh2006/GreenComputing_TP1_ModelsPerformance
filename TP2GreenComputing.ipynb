{
  "cells": [
    {
      "cell_type": "markdown",
      "metadata": {
        "id": "view-in-github",
        "colab_type": "text"
      },
      "source": [
        "<a href=\"https://colab.research.google.com/github/gauravchugh2006/GreenComputing_TP1_ModelsPerformance/blob/main/TP2GreenComputing.ipynb\" target=\"_parent\"><img src=\"https://colab.research.google.com/assets/colab-badge.svg\" alt=\"Open In Colab\"/></a>"
      ]
    },
    {
      "cell_type": "markdown",
      "id": "497c469c-8a19-4aa5-92cb-46886d4511d5",
      "metadata": {
        "id": "497c469c-8a19-4aa5-92cb-46886d4511d5"
      },
      "source": [
        "# =========================\n",
        "# TP2 — Pandas Baseline\n",
        "# ========================="
      ]
    },
    {
      "cell_type": "code",
      "source": [
        "!curl -L -o /content/sample.zip https://www.kaggle.com/api/v1/datasets/download/mohamedbakhet/amazon-books-reviews"
      ],
      "metadata": {
        "colab": {
          "base_uri": "https://localhost:8080/"
        },
        "id": "QwaGDrCvU2WW",
        "outputId": "8cc2c364-d7bc-43ca-f34a-5ebd2e075956"
      },
      "id": "QwaGDrCvU2WW",
      "execution_count": null,
      "outputs": [
        {
          "output_type": "stream",
          "name": "stdout",
          "text": [
            "  % Total    % Received % Xferd  Average Speed   Time    Time     Time  Current\n",
            "                                 Dload  Upload   Total   Spent    Left  Speed\n",
            "  0     0    0     0    0     0      0      0 --:--:-- --:--:-- --:--:--     0\n",
            "100 1087M  100 1087M    0     0  37.7M      0  0:00:28  0:00:28 --:--:-- 38.0M\n"
          ]
        }
      ]
    },
    {
      "cell_type": "code",
      "source": [
        "import zipfile\n",
        "\n",
        "zip_path = '/content/sample.zip'\n",
        "extract_path = '/content/sample_unzipped'\n",
        "\n",
        "with zipfile.ZipFile(zip_path, 'r') as zip_ref:\n",
        "    zip_ref.extractall(extract_path)\n"
      ],
      "metadata": {
        "id": "jd9RtqSKVjcT"
      },
      "id": "jd9RtqSKVjcT",
      "execution_count": null,
      "outputs": []
    },
    {
      "cell_type": "code",
      "execution_count": null,
      "id": "3cb22f99-6de7-4465-a6ee-69450ef57834",
      "metadata": {
        "colab": {
          "base_uri": "https://localhost:8080/"
        },
        "id": "3cb22f99-6de7-4465-a6ee-69450ef57834",
        "outputId": "f5cff208-2d40-4ee9-9107-822a2c41e865"
      },
      "outputs": [
        {
          "output_type": "stream",
          "name": "stdout",
          "text": [
            "Requirement already satisfied: codecarbon in /usr/local/lib/python3.12/dist-packages (3.0.7)\n",
            "Requirement already satisfied: arrow in /usr/local/lib/python3.12/dist-packages (from codecarbon) (1.4.0)\n",
            "Requirement already satisfied: click in /usr/local/lib/python3.12/dist-packages (from codecarbon) (8.3.0)\n",
            "Requirement already satisfied: fief-client[cli] in /usr/local/lib/python3.12/dist-packages (from codecarbon) (0.20.0)\n",
            "Requirement already satisfied: pandas in /usr/local/lib/python3.12/dist-packages (from codecarbon) (2.2.2)\n",
            "Requirement already satisfied: prometheus_client in /usr/local/lib/python3.12/dist-packages (from codecarbon) (0.23.1)\n",
            "Requirement already satisfied: psutil>=6.0.0 in /usr/local/lib/python3.12/dist-packages (from codecarbon) (7.1.2)\n",
            "Requirement already satisfied: py-cpuinfo in /usr/local/lib/python3.12/dist-packages (from codecarbon) (9.0.0)\n",
            "Requirement already satisfied: pydantic in /usr/local/lib/python3.12/dist-packages (from codecarbon) (2.11.10)\n",
            "Requirement already satisfied: nvidia-ml-py in /usr/local/lib/python3.12/dist-packages (from codecarbon) (12.575.51)\n",
            "Requirement already satisfied: rapidfuzz in /usr/local/lib/python3.12/dist-packages (from codecarbon) (3.14.1)\n",
            "Requirement already satisfied: requests in /usr/local/lib/python3.12/dist-packages (from codecarbon) (2.32.4)\n",
            "Requirement already satisfied: questionary in /usr/local/lib/python3.12/dist-packages (from codecarbon) (2.1.1)\n",
            "Requirement already satisfied: rich in /usr/local/lib/python3.12/dist-packages (from codecarbon) (13.9.4)\n",
            "Requirement already satisfied: typer in /usr/local/lib/python3.12/dist-packages (from codecarbon) (0.20.0)\n",
            "Requirement already satisfied: python-dateutil>=2.7.0 in /usr/local/lib/python3.12/dist-packages (from arrow->codecarbon) (2.9.0.post0)\n",
            "Requirement already satisfied: tzdata in /usr/local/lib/python3.12/dist-packages (from arrow->codecarbon) (2025.2)\n",
            "Requirement already satisfied: httpx<0.28.0,>=0.21.3 in /usr/local/lib/python3.12/dist-packages (from fief-client[cli]->codecarbon) (0.27.2)\n",
            "Requirement already satisfied: jwcrypto<2.0.0,>=1.4 in /usr/local/lib/python3.12/dist-packages (from fief-client[cli]->codecarbon) (1.5.6)\n",
            "Requirement already satisfied: yaspin in /usr/local/lib/python3.12/dist-packages (from fief-client[cli]->codecarbon) (3.3.0)\n",
            "Requirement already satisfied: numpy>=1.26.0 in /usr/local/lib/python3.12/dist-packages (from pandas->codecarbon) (2.0.2)\n",
            "Requirement already satisfied: pytz>=2020.1 in /usr/local/lib/python3.12/dist-packages (from pandas->codecarbon) (2025.2)\n",
            "Requirement already satisfied: annotated-types>=0.6.0 in /usr/local/lib/python3.12/dist-packages (from pydantic->codecarbon) (0.7.0)\n",
            "Requirement already satisfied: pydantic-core==2.33.2 in /usr/local/lib/python3.12/dist-packages (from pydantic->codecarbon) (2.33.2)\n",
            "Requirement already satisfied: typing-extensions>=4.12.2 in /usr/local/lib/python3.12/dist-packages (from pydantic->codecarbon) (4.15.0)\n",
            "Requirement already satisfied: typing-inspection>=0.4.0 in /usr/local/lib/python3.12/dist-packages (from pydantic->codecarbon) (0.4.2)\n",
            "Requirement already satisfied: prompt_toolkit<4.0,>=2.0 in /usr/local/lib/python3.12/dist-packages (from questionary->codecarbon) (3.0.52)\n",
            "Requirement already satisfied: charset_normalizer<4,>=2 in /usr/local/lib/python3.12/dist-packages (from requests->codecarbon) (3.4.4)\n",
            "Requirement already satisfied: idna<4,>=2.5 in /usr/local/lib/python3.12/dist-packages (from requests->codecarbon) (3.11)\n",
            "Requirement already satisfied: urllib3<3,>=1.21.1 in /usr/local/lib/python3.12/dist-packages (from requests->codecarbon) (2.5.0)\n",
            "Requirement already satisfied: certifi>=2017.4.17 in /usr/local/lib/python3.12/dist-packages (from requests->codecarbon) (2025.10.5)\n",
            "Requirement already satisfied: markdown-it-py>=2.2.0 in /usr/local/lib/python3.12/dist-packages (from rich->codecarbon) (4.0.0)\n",
            "Requirement already satisfied: pygments<3.0.0,>=2.13.0 in /usr/local/lib/python3.12/dist-packages (from rich->codecarbon) (2.19.2)\n",
            "Requirement already satisfied: shellingham>=1.3.0 in /usr/local/lib/python3.12/dist-packages (from typer->codecarbon) (1.5.4)\n",
            "Requirement already satisfied: anyio in /usr/local/lib/python3.12/dist-packages (from httpx<0.28.0,>=0.21.3->fief-client[cli]->codecarbon) (4.11.0)\n",
            "Requirement already satisfied: httpcore==1.* in /usr/local/lib/python3.12/dist-packages (from httpx<0.28.0,>=0.21.3->fief-client[cli]->codecarbon) (1.0.9)\n",
            "Requirement already satisfied: sniffio in /usr/local/lib/python3.12/dist-packages (from httpx<0.28.0,>=0.21.3->fief-client[cli]->codecarbon) (1.3.1)\n",
            "Requirement already satisfied: h11>=0.16 in /usr/local/lib/python3.12/dist-packages (from httpcore==1.*->httpx<0.28.0,>=0.21.3->fief-client[cli]->codecarbon) (0.16.0)\n",
            "Requirement already satisfied: cryptography>=3.4 in /usr/local/lib/python3.12/dist-packages (from jwcrypto<2.0.0,>=1.4->fief-client[cli]->codecarbon) (43.0.3)\n",
            "Requirement already satisfied: mdurl~=0.1 in /usr/local/lib/python3.12/dist-packages (from markdown-it-py>=2.2.0->rich->codecarbon) (0.1.2)\n",
            "Requirement already satisfied: wcwidth in /usr/local/lib/python3.12/dist-packages (from prompt_toolkit<4.0,>=2.0->questionary->codecarbon) (0.2.14)\n",
            "Requirement already satisfied: six>=1.5 in /usr/local/lib/python3.12/dist-packages (from python-dateutil>=2.7.0->arrow->codecarbon) (1.17.0)\n",
            "Requirement already satisfied: termcolor<4.0,>=3.1 in /usr/local/lib/python3.12/dist-packages (from yaspin->fief-client[cli]->codecarbon) (3.1.0)\n",
            "Requirement already satisfied: cffi>=1.12 in /usr/local/lib/python3.12/dist-packages (from cryptography>=3.4->jwcrypto<2.0.0,>=1.4->fief-client[cli]->codecarbon) (2.0.0)\n",
            "Requirement already satisfied: pycparser in /usr/local/lib/python3.12/dist-packages (from cffi>=1.12->cryptography>=3.4->jwcrypto<2.0.0,>=1.4->fief-client[cli]->codecarbon) (2.23)\n"
          ]
        },
        {
          "output_type": "stream",
          "name": "stderr",
          "text": [
            "[codecarbon WARNING @ 14:37:41] Multiple instances of codecarbon are allowed to run at the same time.\n",
            "[codecarbon INFO @ 14:37:41] [setup] RAM Tracking...\n",
            "[codecarbon INFO @ 14:37:41] [setup] CPU Tracking...\n",
            "[codecarbon WARNING @ 14:37:43] We saw that you have a Intel(R) Xeon(R) CPU @ 2.20GHz but we don't know it. Please contact us.\n",
            "[codecarbon WARNING @ 14:37:43] No CPU tracking mode found. Falling back on estimation based on TDP for CPU. \n",
            " Linux OS detected: Please ensure RAPL files exist at /sys/class/powercap/intel-rapl/subsystem to measure CPU\n",
            "\n",
            "[codecarbon INFO @ 14:37:43] CPU Model on constant consumption mode: Intel(R) Xeon(R) CPU @ 2.20GHz\n",
            "[codecarbon WARNING @ 14:37:43] No CPU tracking mode found. Falling back on CPU constant mode.\n",
            "[codecarbon INFO @ 14:37:43] [setup] GPU Tracking...\n",
            "[codecarbon INFO @ 14:37:43] No GPU found.\n",
            "[codecarbon INFO @ 14:37:43] The below tracking methods have been set up:\n",
            "                RAM Tracking Method: RAM power estimation model\n",
            "                CPU Tracking Method: global constant\n",
            "                GPU Tracking Method: Unspecified\n",
            "            \n",
            "[codecarbon INFO @ 14:37:43] >>> Tracker's metadata:\n",
            "[codecarbon INFO @ 14:37:43]   Platform system: Linux-6.6.105+-x86_64-with-glibc2.35\n",
            "[codecarbon INFO @ 14:37:43]   Python version: 3.12.12\n",
            "[codecarbon INFO @ 14:37:43]   CodeCarbon version: 3.0.7\n",
            "[codecarbon INFO @ 14:37:43]   Available RAM : 12.671 GB\n",
            "[codecarbon INFO @ 14:37:43]   CPU count: 2 thread(s) in 1 physical CPU(s)\n",
            "[codecarbon INFO @ 14:37:43]   CPU model: Intel(R) Xeon(R) CPU @ 2.20GHz\n",
            "[codecarbon INFO @ 14:37:43]   GPU count: None\n",
            "[codecarbon INFO @ 14:37:43]   GPU model: None\n",
            "[codecarbon INFO @ 14:37:43] Emissions data (if any) will be saved to file /content/emissions_pandas.csv\n"
          ]
        }
      ],
      "source": [
        "!pip install codecarbon\n",
        "\n",
        "# 1. Imports\n",
        "import pandas as pd\n",
        "import numpy as np\n",
        "import re\n",
        "from codecarbon import EmissionsTracker\n",
        "import time\n",
        "\n",
        "# Start measuring emissions\n",
        "tracker = EmissionsTracker(output_file=\"emissions_pandas.csv\")\n",
        "tracker.start()\n",
        "\n",
        "start_time = time.time()\n",
        "\n",
        "\n",
        "\n"
      ]
    },
    {
      "cell_type": "markdown",
      "id": "9248dd7b-4845-46fd-b1ad-a63f06f143c6",
      "metadata": {
        "id": "9248dd7b-4845-46fd-b1ad-a63f06f143c6"
      },
      "source": [
        "# =========================\n",
        "# 2. Load data\n",
        "# ========================="
      ]
    },
    {
      "cell_type": "code",
      "execution_count": null,
      "id": "0430c0a4-07b1-44b2-b7c8-c37dd0793d6a",
      "metadata": {
        "colab": {
          "base_uri": "https://localhost:8080/"
        },
        "id": "0430c0a4-07b1-44b2-b7c8-c37dd0793d6a",
        "outputId": "000afd38-3599-4897-fd04-acd4eb636f2b"
      },
      "outputs": [
        {
          "output_type": "stream",
          "name": "stderr",
          "text": [
            "[codecarbon INFO @ 14:37:58] Energy consumed for RAM : 0.000042 kWh. RAM Power : 10.0 W\n",
            "[codecarbon INFO @ 14:37:58] Delta energy consumed for CPU with constant : 0.000178 kWh, power : 42.5 W\n",
            "[codecarbon INFO @ 14:37:58] Energy consumed for All CPU : 0.000178 kWh\n",
            "[codecarbon INFO @ 14:37:58] 0.000219 kWh of electricity used since the beginning.\n",
            "[codecarbon INFO @ 14:38:13] Energy consumed for RAM : 0.000085 kWh. RAM Power : 10.0 W\n",
            "[codecarbon INFO @ 14:38:13] Delta energy consumed for CPU with constant : 0.000182 kWh, power : 42.5 W\n",
            "[codecarbon INFO @ 14:38:13] Energy consumed for All CPU : 0.000360 kWh\n",
            "[codecarbon INFO @ 14:38:13] 0.000444 kWh of electricity used since the beginning.\n",
            "[codecarbon INFO @ 14:38:28] Energy consumed for RAM : 0.000126 kWh. RAM Power : 10.0 W\n",
            "[codecarbon INFO @ 14:38:28] Delta energy consumed for CPU with constant : 0.000178 kWh, power : 42.5 W\n",
            "[codecarbon INFO @ 14:38:28] Energy consumed for All CPU : 0.000538 kWh\n",
            "[codecarbon INFO @ 14:38:28] 0.000664 kWh of electricity used since the beginning.\n"
          ]
        },
        {
          "output_type": "stream",
          "name": "stdout",
          "text": [
            "Books shape: (212404, 10)\n",
            "Reviews shape: (3000000, 10)\n"
          ]
        }
      ],
      "source": [
        "\n",
        "books = pd.read_csv(\"/content/sample_unzipped/books_data.csv\")\n",
        "reviews = pd.read_csv(\"/content/sample_unzipped/Books_rating.csv\")\n",
        "\n",
        "print(\"Books shape:\", books.shape)\n",
        "print(\"Reviews shape:\", reviews.shape)"
      ]
    },
    {
      "cell_type": "markdown",
      "id": "450730de-71ab-41bf-85d9-70c86b1e92c7",
      "metadata": {
        "id": "450730de-71ab-41bf-85d9-70c86b1e92c7"
      },
      "source": [
        "\n",
        "# =========================\n",
        "# 3. Data Cleaning\n",
        "# ========================="
      ]
    },
    {
      "cell_type": "code",
      "execution_count": null,
      "id": "1c019291-7584-4792-a38f-f870c4819b10",
      "metadata": {
        "id": "1c019291-7584-4792-a38f-f870c4819b10"
      },
      "outputs": [],
      "source": [
        "\n",
        "# Handle missing values\n",
        "books.fillna({\"description\": \"\", \"publisher\": \"Unknown\", \"categories\": \"[]\", \"authors\": \"[]\"}, inplace=True)\n",
        "reviews.fillna({\"Price\": 0, \"review/text\": \"\", \"review/summary\": \"\"}, inplace=True)\n",
        "\n",
        "# Normalize authors and categories (convert stringified lists to real lists)\n",
        "def clean_list_column(x):\n",
        "    if pd.isna(x):\n",
        "        return []\n",
        "    x = re.sub(r\"[\\[\\]']\", \"\", str(x))\n",
        "    return [i.strip() for i in x.split(\",\") if i.strip()]\n",
        "\n",
        "books[\"authors\"] = books[\"authors\"].apply(clean_list_column)\n",
        "books[\"categories\"] = books[\"categories\"].apply(clean_list_column)"
      ]
    },
    {
      "cell_type": "markdown",
      "id": "43a89398-46e8-4d9e-a738-815813fccbfa",
      "metadata": {
        "id": "43a89398-46e8-4d9e-a738-815813fccbfa"
      },
      "source": [
        "\n",
        "\n",
        "# =========================\n",
        "# 4. Join datasets on title\n",
        "# ========================="
      ]
    },
    {
      "cell_type": "code",
      "execution_count": null,
      "id": "b4233e56-b0b6-4b64-9a0f-109d39bc0336",
      "metadata": {
        "colab": {
          "base_uri": "https://localhost:8080/"
        },
        "id": "b4233e56-b0b6-4b64-9a0f-109d39bc0336",
        "outputId": "a1dd22a2-f20a-4986-b376-d7ccdcf7179d"
      },
      "outputs": [
        {
          "output_type": "stream",
          "name": "stdout",
          "text": [
            "Merged shape: (3000000, 19)\n"
          ]
        }
      ],
      "source": [
        "\n",
        "merged = pd.merge(reviews, books, on=\"Title\", how=\"inner\")\n",
        "print(\"Merged shape:\", merged.shape)"
      ]
    },
    {
      "cell_type": "code",
      "execution_count": null,
      "id": "e88e01d3-2e40-4678-ae9e-9671239e61e3",
      "metadata": {
        "id": "e88e01d3-2e40-4678-ae9e-9671239e61e3"
      },
      "outputs": [],
      "source": [
        "\n",
        "\n",
        "# =========================\n",
        "# 5. Compute metrics\n",
        "# ========================="
      ]
    },
    {
      "cell_type": "code",
      "execution_count": null,
      "id": "16a47c60-9a49-47fd-85d0-c9300de26124",
      "metadata": {
        "colab": {
          "base_uri": "https://localhost:8080/",
          "height": 218
        },
        "id": "16a47c60-9a49-47fd-85d0-c9300de26124",
        "outputId": "3120f104-bf7b-45e2-c4cf-8a2176f202fa"
      },
      "outputs": [
        {
          "output_type": "error",
          "ename": "NameError",
          "evalue": "name 'merged' is not defined",
          "traceback": [
            "\u001b[0;31m---------------------------------------------------------------------------\u001b[0m",
            "\u001b[0;31mNameError\u001b[0m                                 Traceback (most recent call last)",
            "\u001b[0;32m/tmp/ipython-input-858422246.py\u001b[0m in \u001b[0;36m<cell line: 0>\u001b[0;34m()\u001b[0m\n\u001b[1;32m      1\u001b[0m \u001b[0;31m# Average rating per author\u001b[0m\u001b[0;34m\u001b[0m\u001b[0;34m\u001b[0m\u001b[0m\n\u001b[1;32m      2\u001b[0m author_ratings = (\n\u001b[0;32m----> 3\u001b[0;31m     \u001b[0mmerged\u001b[0m\u001b[0;34m.\u001b[0m\u001b[0mexplode\u001b[0m\u001b[0;34m(\u001b[0m\u001b[0;34m\"authors\"\u001b[0m\u001b[0;34m)\u001b[0m\u001b[0;34m\u001b[0m\u001b[0;34m\u001b[0m\u001b[0m\n\u001b[0m\u001b[1;32m      4\u001b[0m     \u001b[0;34m.\u001b[0m\u001b[0mgroupby\u001b[0m\u001b[0;34m(\u001b[0m\u001b[0;34m\"authors\"\u001b[0m\u001b[0;34m)\u001b[0m\u001b[0;34m[\u001b[0m\u001b[0;34m\"review/score\"\u001b[0m\u001b[0;34m]\u001b[0m\u001b[0;34m\u001b[0m\u001b[0;34m\u001b[0m\u001b[0m\n\u001b[1;32m      5\u001b[0m     \u001b[0;34m.\u001b[0m\u001b[0mmean\u001b[0m\u001b[0;34m(\u001b[0m\u001b[0;34m)\u001b[0m\u001b[0;34m\u001b[0m\u001b[0;34m\u001b[0m\u001b[0m\n",
            "\u001b[0;31mNameError\u001b[0m: name 'merged' is not defined"
          ]
        }
      ],
      "source": [
        "\n",
        "\n",
        "# Average rating per author\n",
        "author_ratings = (\n",
        "    merged.explode(\"authors\")\n",
        "    .groupby(\"authors\")[\"review/score\"]\n",
        "    .mean()\n",
        "    .reset_index()\n",
        "    .rename(columns={\"review/score\": \"avg_rating\"})\n",
        ")\n",
        "author_ratings.to_csv(\"avg_rating_per_author.csv\", index=False)\n",
        "\n",
        "# Number of reviews per publisher\n",
        "reviews_per_publisher = (\n",
        "    merged.groupby(\"publisher\")[\"Id\"]\n",
        "    .count()\n",
        "    .reset_index()\n",
        "    .rename(columns={\"Id\": \"num_reviews\"})\n",
        ")\n",
        "reviews_per_publisher.to_csv(\"reviews_per_publisher.csv\", index=False)\n",
        "\n",
        "# Top 10 most-reviewed categories\n",
        "category_reviews = (\n",
        "    merged.explode(\"categories\")\n",
        "    .groupby(\"categories\")[\"Id\"]\n",
        "    .count()\n",
        "    .reset_index()\n",
        "    .rename(columns={\"Id\": \"num_reviews\"})\n",
        "    .sort_values(by=\"num_reviews\", ascending=False)\n",
        "    .head(10)\n",
        ")\n",
        "category_reviews.to_csv(\"top10_categories.csv\", index=False)\n"
      ]
    },
    {
      "cell_type": "markdown",
      "id": "eb2a2430-6100-4c75-8376-eefcba49643e",
      "metadata": {
        "id": "eb2a2430-6100-4c75-8376-eefcba49643e"
      },
      "source": [
        "\n",
        "# =========================\n",
        "# 6. Text Processing\n",
        "# ========================="
      ]
    },
    {
      "cell_type": "code",
      "execution_count": null,
      "id": "6efa8cb6-3290-4e9c-a122-bde048a55d26",
      "metadata": {
        "colab": {
          "base_uri": "https://localhost:8080/"
        },
        "id": "6efa8cb6-3290-4e9c-a122-bde048a55d26",
        "outputId": "dfcf70ef-6878-47e7-ec69-82a0522abc05"
      },
      "outputs": [
        {
          "output_type": "stream",
          "name": "stderr",
          "text": [
            "[codecarbon INFO @ 14:33:50] Energy consumed for RAM : 0.000252 kWh. RAM Power : 10.0 W\n",
            "[codecarbon INFO @ 14:33:50] Delta energy consumed for CPU with constant : 0.000177 kWh, power : 42.5 W\n",
            "[codecarbon INFO @ 14:33:50] Energy consumed for All CPU : 0.001072 kWh\n",
            "[codecarbon INFO @ 14:33:50] 0.001325 kWh of electricity used since the beginning.\n",
            "[codecarbon INFO @ 14:34:05] Energy consumed for RAM : 0.000294 kWh. RAM Power : 10.0 W\n",
            "[codecarbon INFO @ 14:34:05] Delta energy consumed for CPU with constant : 0.000177 kWh, power : 42.5 W\n",
            "[codecarbon INFO @ 14:34:05] Energy consumed for All CPU : 0.001249 kWh\n",
            "[codecarbon INFO @ 14:34:05] 0.001543 kWh of electricity used since the beginning.\n"
          ]
        }
      ],
      "source": [
        "# Compute average review length\n",
        "merged[\"review_length\"] = merged[\"review/text\"].apply(lambda x: len(str(x).split()))\n",
        "avg_review_length = merged[\"review_length\"].mean()\n",
        "\n",
        "# Count most frequent keywords (simple example)\n",
        "from collections import Counter\n",
        "all_words = \" \".join(merged[\"review/text\"]).lower().split()\n",
        "word_counts = Counter(all_words)\n",
        "most_common_words = pd.DataFrame(word_counts.most_common(10), columns=[\"word\", \"count\"])\n",
        "most_common_words.to_csv(\"top10_keywords.csv\", index=False)"
      ]
    },
    {
      "cell_type": "markdown",
      "id": "2c54d00d-433c-4853-b3d2-726d209be86e",
      "metadata": {
        "id": "2c54d00d-433c-4853-b3d2-726d209be86e"
      },
      "source": [
        "\n",
        "\n",
        "# =========================\n",
        "# 7. Save results\n",
        "# ========================="
      ]
    },
    {
      "cell_type": "code",
      "execution_count": null,
      "id": "09986e87-2246-45ee-931a-98cab7c5eb3a",
      "metadata": {
        "colab": {
          "base_uri": "https://localhost:8080/",
          "height": 218
        },
        "id": "09986e87-2246-45ee-931a-98cab7c5eb3a",
        "outputId": "14036ad1-5f1d-402a-8c42-d5ca57adc3bb"
      },
      "outputs": [
        {
          "output_type": "error",
          "ename": "NameError",
          "evalue": "name 'author_ratings' is not defined",
          "traceback": [
            "\u001b[0;31m---------------------------------------------------------------------------\u001b[0m",
            "\u001b[0;31mNameError\u001b[0m                                 Traceback (most recent call last)",
            "\u001b[0;32m/tmp/ipython-input-1611583572.py\u001b[0m in \u001b[0;36m<cell line: 0>\u001b[0;34m()\u001b[0m\n\u001b[0;32m----> 1\u001b[0;31m \u001b[0mauthor_ratings\u001b[0m\u001b[0;34m.\u001b[0m\u001b[0mto_csv\u001b[0m\u001b[0;34m(\u001b[0m\u001b[0;34m\"avg_rating_per_author.csv\"\u001b[0m\u001b[0;34m,\u001b[0m \u001b[0mindex\u001b[0m\u001b[0;34m=\u001b[0m\u001b[0;32mFalse\u001b[0m\u001b[0;34m)\u001b[0m\u001b[0;34m\u001b[0m\u001b[0;34m\u001b[0m\u001b[0m\n\u001b[0m\u001b[1;32m      2\u001b[0m \u001b[0mreviews_per_publisher\u001b[0m\u001b[0;34m.\u001b[0m\u001b[0mto_csv\u001b[0m\u001b[0;34m(\u001b[0m\u001b[0;34m\"reviews_per_publisher.csv\"\u001b[0m\u001b[0;34m,\u001b[0m \u001b[0mindex\u001b[0m\u001b[0;34m=\u001b[0m\u001b[0;32mFalse\u001b[0m\u001b[0;34m)\u001b[0m\u001b[0;34m\u001b[0m\u001b[0;34m\u001b[0m\u001b[0m\n\u001b[1;32m      3\u001b[0m \u001b[0mcategory_reviews\u001b[0m\u001b[0;34m.\u001b[0m\u001b[0mto_csv\u001b[0m\u001b[0;34m(\u001b[0m\u001b[0;34m\"top10_categories.csv\"\u001b[0m\u001b[0;34m,\u001b[0m \u001b[0mindex\u001b[0m\u001b[0;34m=\u001b[0m\u001b[0;32mFalse\u001b[0m\u001b[0;34m)\u001b[0m\u001b[0;34m\u001b[0m\u001b[0;34m\u001b[0m\u001b[0m\n\u001b[1;32m      4\u001b[0m \u001b[0mmost_common_words\u001b[0m\u001b[0;34m.\u001b[0m\u001b[0mto_csv\u001b[0m\u001b[0;34m(\u001b[0m\u001b[0;34m\"top10_keywords.csv\"\u001b[0m\u001b[0;34m,\u001b[0m \u001b[0mindex\u001b[0m\u001b[0;34m=\u001b[0m\u001b[0;32mFalse\u001b[0m\u001b[0;34m)\u001b[0m\u001b[0;34m\u001b[0m\u001b[0;34m\u001b[0m\u001b[0m\n\u001b[1;32m      5\u001b[0m \u001b[0;34m\u001b[0m\u001b[0m\n",
            "\u001b[0;31mNameError\u001b[0m: name 'author_ratings' is not defined"
          ]
        }
      ],
      "source": [
        "\n",
        "\n",
        "# author_ratings.to_csv(\"avg_rating_per_author.csv\", index=False)\n",
        "# reviews_per_publisher.to_csv(\"reviews_per_publisher.csv\", index=False)\n",
        "# category_reviews.to_csv(\"top10_categories.csv\", index=False)\n",
        "# most_common_words.to_csv(\"top10_keywords.csv\", index=False)\n",
        "\n",
        "# Stop emissions tracking\n",
        "emissions = tracker.stop()\n",
        "\n",
        "duration = time.time() - start_time\n",
        "\n",
        "print(f\"Execution time: {duration:.2f} s\")\n",
        "print(f\"CO2 emitted: {emissions:.6f} kg\")"
      ]
    }
  ],
  "metadata": {
    "kernelspec": {
      "display_name": "Python 3 (ipykernel)",
      "language": "python",
      "name": "python3"
    },
    "language_info": {
      "codemirror_mode": {
        "name": "ipython",
        "version": 3
      },
      "file_extension": ".py",
      "mimetype": "text/x-python",
      "name": "python",
      "nbconvert_exporter": "python",
      "pygments_lexer": "ipython3",
      "version": "3.11.12"
    },
    "colab": {
      "provenance": [],
      "include_colab_link": true
    }
  },
  "nbformat": 4,
  "nbformat_minor": 5
}